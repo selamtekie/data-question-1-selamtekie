{
 "cells": [
  {
   "cell_type": "code",
   "execution_count": 5,
   "metadata": {},
   "outputs": [],
   "source": [
    "import pandas as pd\n",
    "import numpy as np\n",
    "import matplotlib.pyplot as plt\n",
    "import seaborn as sns\n",
    "\n",
    "\n",
    "%matplotlib inline\n"
   ]
  },
  {
   "cell_type": "code",
   "execution_count": 59,
   "metadata": {},
   "outputs": [],
   "source": [
    "gdp_df = pd.read_csv ('Data/gdp_percapita.csv', nrows=6206)\n"
   ]
  },
  {
   "cell_type": "code",
   "execution_count": 58,
   "metadata": {},
   "outputs": [],
   "source": [
    "internet_df = pd.read_csv ('Data/internet_use.csv', nrows=4495)"
   ]
  },
  {
   "cell_type": "code",
   "execution_count": 26,
   "metadata": {},
   "outputs": [
    {
     "data": {
      "text/plain": [
       "(6208, 4)"
      ]
     },
     "execution_count": 26,
     "metadata": {},
     "output_type": "execute_result"
    }
   ],
   "source": [
    "gdp_df.shape"
   ]
  },
  {
   "cell_type": "code",
   "execution_count": 33,
   "metadata": {},
   "outputs": [
    {
     "name": "stdout",
     "output_type": "stream",
     "text": [
      "(4675, 4)\n"
     ]
    }
   ],
   "source": [
    "internet_df.shape \n",
    "print(internet_df.shape )"
   ]
  },
  {
   "cell_type": "code",
   "execution_count": 45,
   "metadata": {
    "scrolled": false
   },
   "outputs": [
    {
     "name": "stdout",
     "output_type": "stream",
     "text": [
      "Country or Area     object\n",
      "Year                object\n",
      "Value              float64\n",
      "Value Footnotes    float64\n",
      "dtype: object\n",
      "Country or Area     object\n",
      "Year                object\n",
      "Value              float64\n",
      "Value Footnotes    float64\n",
      "dtype: object\n"
     ]
    }
   ],
   "source": [
    "print(gdp_df.dtypes)\n",
    "print(internet_df.dtypes)"
   ]
  },
  {
   "cell_type": "code",
   "execution_count": 61,
   "metadata": {},
   "outputs": [
    {
     "name": "stdout",
     "output_type": "stream",
     "text": [
      "     Country or Area  Year        Value  Value Footnotes\n",
      "6196        Zimbabwe  1999  2699.857521              NaN\n",
      "6197        Zimbabwe  1998  2761.318537              NaN\n",
      "6198        Zimbabwe  1997  2725.888701              NaN\n",
      "6199        Zimbabwe  1996  2698.917300              NaN\n",
      "6200        Zimbabwe  1995  2488.298028              NaN\n",
      "6201        Zimbabwe  1994  2529.826671              NaN\n",
      "6202        Zimbabwe  1993  2360.793284              NaN\n",
      "6203        Zimbabwe  1992  2384.972026              NaN\n",
      "6204        Zimbabwe  1991  2681.495089              NaN\n",
      "6205        Zimbabwe  1990  2605.794944              NaN\n",
      "     Country or Area  Year     Value  Value Footnotes\n",
      "4485        Zimbabwe  2002  3.994356              NaN\n",
      "4486        Zimbabwe  2001  0.799846              NaN\n",
      "4487        Zimbabwe  2000  0.401434              NaN\n",
      "4488        Zimbabwe  1999  0.161676              NaN\n",
      "4489        Zimbabwe  1998  0.081648              NaN\n",
      "4490        Zimbabwe  1997  0.033080              NaN\n",
      "4491        Zimbabwe  1996  0.016790              NaN\n",
      "4492        Zimbabwe  1995  0.007684              NaN\n",
      "4493        Zimbabwe  1994  0.001739              NaN\n",
      "4494        Zimbabwe  1990  0.000000              NaN\n"
     ]
    }
   ],
   "source": [
    "print(gdp_df[-10:])\n",
    "print(internet_df[-10:])\n"
   ]
  },
  {
   "cell_type": "code",
   "execution_count": 92,
   "metadata": {},
   "outputs": [],
   "source": [
    "gdp_df = gdp_df.drop(columns = 'Value Footnotes')\n",
    "internet_df = internet_df.drop(columns ='Value Footnotes')"
   ]
  },
  {
   "cell_type": "code",
   "execution_count": 93,
   "metadata": {
    "scrolled": true
   },
   "outputs": [
    {
     "name": "stdout",
     "output_type": "stream",
     "text": [
      "     Country or Area  Year        Value\n",
      "6196        Zimbabwe  1999  2699.857521\n",
      "6197        Zimbabwe  1998  2761.318537\n",
      "6198        Zimbabwe  1997  2725.888701\n",
      "6199        Zimbabwe  1996  2698.917300\n",
      "6200        Zimbabwe  1995  2488.298028\n",
      "6201        Zimbabwe  1994  2529.826671\n",
      "6202        Zimbabwe  1993  2360.793284\n",
      "6203        Zimbabwe  1992  2384.972026\n",
      "6204        Zimbabwe  1991  2681.495089\n",
      "6205        Zimbabwe  1990  2605.794944\n",
      "     Country or Area  Year     Value\n",
      "4485        Zimbabwe  2002  3.994356\n",
      "4486        Zimbabwe  2001  0.799846\n",
      "4487        Zimbabwe  2000  0.401434\n",
      "4488        Zimbabwe  1999  0.161676\n",
      "4489        Zimbabwe  1998  0.081648\n",
      "4490        Zimbabwe  1997  0.033080\n",
      "4491        Zimbabwe  1996  0.016790\n",
      "4492        Zimbabwe  1995  0.007684\n",
      "4493        Zimbabwe  1994  0.001739\n",
      "4494        Zimbabwe  1990  0.000000\n"
     ]
    }
   ],
   "source": [
    "print (gdp_df[-10:])\n",
    "print(internet_df[-10:])"
   ]
  },
  {
   "cell_type": "code",
   "execution_count": 116,
   "metadata": {},
   "outputs": [
    {
     "name": "stdout",
     "output_type": "stream",
     "text": [
      "       Country  Year  GDP_Per_Capita\n",
      "6201  Zimbabwe  1994     2529.826671\n",
      "6202  Zimbabwe  1993     2360.793284\n",
      "6203  Zimbabwe  1992     2384.972026\n",
      "6204  Zimbabwe  1991     2681.495089\n",
      "6205  Zimbabwe  1990     2605.794944\n",
      "       Country  Year  Internet_Users_Pct\n",
      "4490  Zimbabwe  1997            0.033080\n",
      "4491  Zimbabwe  1996            0.016790\n",
      "4492  Zimbabwe  1995            0.007684\n",
      "4493  Zimbabwe  1994            0.001739\n",
      "4494  Zimbabwe  1990            0.000000\n"
     ]
    }
   ],
   "source": [
    "gdp_df.columns = ['Country','Year','GDP_Per_Capita']\n",
    "internet_df.columns = ['Country','Year', 'Internet_Users_Pct']\n",
    "print(gdp_df [ -5:])\n",
    "print(internet_df [ -5:])"
   ]
  },
  {
   "cell_type": "code",
   "execution_count": 118,
   "metadata": {},
   "outputs": [
    {
     "name": "stdout",
     "output_type": "stream",
     "text": [
      "       Country  Year  GDP_Per_Capita  Internet_Users_Pct\n",
      "3519  Zimbabwe  1997     2725.888701            0.033080\n",
      "3520  Zimbabwe  1996     2698.917300            0.016790\n",
      "3521  Zimbabwe  1995     2488.298028            0.007684\n",
      "3522  Zimbabwe  1994     2529.826671            0.001739\n",
      "3523  Zimbabwe  1990     2605.794944            0.000000\n"
     ]
    }
   ],
   "source": [
    "gdp_and_internet_use = pd.merge(gdp_df, internet_df) \n",
    "print(gdp_and_internet_use[ -5:])\n",
    "  "
   ]
  },
  {
   "cell_type": "code",
   "execution_count": 139,
   "metadata": {
    "scrolled": false
   },
   "outputs": [
    {
     "name": "stdout",
     "output_type": "stream",
     "text": [
      "                             Country  Year  GDP_Per_Capita  Internet_Users_Pct\n",
      "10                       Afghanistan  2004     1062.249360            0.105809\n",
      "23                           Albania  2004     7277.214908            2.420388\n",
      "44                           Algeria  2004    11797.184849            4.634475\n",
      "66                            Angola  2004     3461.018084            0.464815\n",
      "86               Antigua and Barbuda  2004    19282.229791           24.266544\n",
      "107                        Argentina  2004    14410.150515           16.036684\n",
      "131                          Armenia  2004     4673.984726            4.899009\n",
      "176                          Austria  2004    40719.350083           54.280000\n",
      "221                          Bahrain  2004    43355.305653           21.458681\n",
      "242                       Bangladesh  2004     1838.761980            0.199036\n",
      "261                         Barbados  2004    15601.883194           49.800000\n",
      "301                          Belgium  2004    39201.527156           53.860000\n",
      "326                           Belize  2004     7873.492168            9.800000\n",
      "345                            Benin  2004     1757.902979            1.182541\n",
      "364                          Bermuda  2004    55452.638880           60.990867\n",
      "385                           Bhutan  2004     4329.159846            3.156984\n",
      "402                          Bolivia  2004     4575.172905            4.439925\n",
      "423           Bosnia and Herzegovina  2004     7642.844638           15.468972\n",
      "442                         Botswana  2004    11239.032584            3.304889\n",
      "464                           Brazil  2004    12058.321374           19.073672\n",
      "489                         Bulgaria  2004    11736.551781           18.130000\n",
      "512                     Burkina Faso  2004     1200.417062            0.400295\n",
      "532                          Burundi  2004      741.766252            0.349060\n",
      "557                         Cambodia  2004     1766.417798            0.300437\n",
      "575                         Cameroon  2004     2848.654228            0.976075\n",
      "594                           Canada  2004    39604.354861           65.955963\n",
      "620                             Chad  2004     1584.673150            0.360920\n",
      "639                            Chile  2004    16258.388946           28.177910\n",
      "663                            China  2004     5164.641095            7.300000\n",
      "686                         Colombia  2004     8963.595329            9.118690\n",
      "...                              ...   ...             ...                 ...\n",
      "2850                    South Africa  2004    10364.359752            8.425119\n",
      "2878                           Spain  2004    32261.444493           44.010000\n",
      "2903                       Sri Lanka  2004     6143.591959            1.446160\n",
      "2925  St. Vincent and the Grenadines  2004     9107.742097            7.371166\n",
      "2943                           Sudan  2004     2593.432883            0.791562\n",
      "2965                        Suriname  2004    11761.779324            6.076048\n",
      "2986                       Swaziland  2004     6426.839172            3.228685\n",
      "3007                          Sweden  2004    40257.923532           83.890000\n",
      "3032                     Switzerland  2004    51505.092367           67.800000\n",
      "3057                      Tajikistan  2004     1633.324595            0.077480\n",
      "3074                        Tanzania  2004     1733.517325            0.877575\n",
      "3094                        Thailand  2004    11134.141346           10.677303\n",
      "3130                            Togo  2004     1197.983399            1.500000\n",
      "3155                           Tonga  2004     4900.630755            3.952374\n",
      "3176             Trinidad and Tobago  2004    25007.668395           27.024270\n",
      "3197                         Tunisia  2004     8578.441655            8.528818\n",
      "3219                          Turkey  2004    15161.620253           14.580000\n",
      "3242                    Turkmenistan  2004     5808.663395            0.754054\n",
      "3268                          Uganda  2004     1190.574441            0.719971\n",
      "3289                         Ukraine  2004     7004.327676            3.489478\n",
      "3312            United Arab Emirates  2004    98639.853594           30.131296\n",
      "3333                  United Kingdom  2004    36292.182034           65.610000\n",
      "3358                   United States  2004    48597.337362           64.758256\n",
      "3383                         Uruguay  2004    12080.456253           17.063098\n",
      "3405                      Uzbekistan  2004     2901.895529            2.593725\n",
      "3426                         Vanuatu  2004     2541.579864            4.746603\n",
      "3446                       Venezuela  2004    13785.218220            8.404470\n",
      "3470                           Yemen  2004     4046.569466            0.881223\n",
      "3490                          Zambia  2004     2378.300439            2.013550\n",
      "3512                        Zimbabwe  2004     1785.608972            6.564045\n",
      "\n",
      "[160 rows x 4 columns]\n",
      "                             Country  Year  GDP_Per_Capita  Internet_Users_Pct\n",
      "5                        Afghanistan  2009     1531.173993            3.550000\n",
      "18                           Albania  2009     9524.649303           41.200000\n",
      "39                           Algeria  2009    12647.540304           11.230000\n",
      "61                            Angola  2009     5908.051427            6.000000\n",
      "81               Antigua and Barbuda  2009    20942.301180           42.000000\n",
      "102                        Argentina  2009    17168.378937           34.000000\n",
      "126                          Armenia  2009     6532.964231           15.300000\n",
      "149                        Australia  2009    41207.128995           74.250000\n",
      "171                          Austria  2009    42618.528839           73.450000\n",
      "196                       Azerbaijan  2009    15393.893291           27.400000\n",
      "216                          Bahrain  2009    40717.180408           53.000000\n",
      "237                       Bangladesh  2009     2339.865769            3.100000\n",
      "256                         Barbados  2009    16479.212605           64.700000\n",
      "277                          Belarus  2009    15035.699646           27.430000\n",
      "296                          Belgium  2009    40355.573118           70.000000\n",
      "321                           Belize  2009     7808.309416           27.200000\n",
      "340                            Benin  2009     1831.762518            2.240000\n",
      "359                          Bermuda  2009    57151.919132           83.250000\n",
      "380                           Bhutan  2009     5851.678019            7.170000\n",
      "397                          Bolivia  2009     5278.038268           16.800000\n",
      "418           Bosnia and Herzegovina  2009     9573.738874           37.740000\n",
      "437                         Botswana  2009    12499.407401            6.150000\n",
      "459                           Brazil  2009    13653.013958           39.220000\n",
      "484                         Bulgaria  2009    14984.592787           45.000000\n",
      "507                     Burkina Faso  2009     1392.200194            1.130000\n",
      "527                          Burundi  2009      760.061723            0.900000\n",
      "552                         Cambodia  2009     2417.876281            0.530000\n",
      "570                         Cameroon  2009     2911.296669            3.840000\n",
      "589                           Canada  2009    39924.195901           80.300000\n",
      "615                             Chad  2009     1752.119931            1.500000\n",
      "...                              ...   ...             ...                 ...\n",
      "2873                           Spain  2009    32652.512182           62.400000\n",
      "2898                       Sri Lanka  2009     7945.070716            8.780000\n",
      "2920  St. Vincent and the Grenadines  2009    10265.459452           31.000000\n",
      "2960                        Suriname  2009    13655.738702           31.360000\n",
      "2981                       Swaziland  2009     7161.806823            8.940000\n",
      "3002                          Sweden  2009    40862.970132           91.000000\n",
      "3027                     Switzerland  2009    54805.579290           81.300000\n",
      "3052                      Tajikistan  2009     2022.460983           10.070000\n",
      "3069                        Tanzania  2009     2028.609813            2.400000\n",
      "3089                        Thailand  2009    12605.373119           20.100000\n",
      "3114                     Timor-Leste  2009     1570.653184            0.185252\n",
      "3125                            Togo  2009     1193.513083            2.600000\n",
      "3150                           Tonga  2009     4836.417883           10.000000\n",
      "3171             Trinidad and Tobago  2009    30403.810016           44.300000\n",
      "3192                         Tunisia  2009    10195.576513           34.070000\n",
      "3214                          Turkey  2009    16783.441468           36.400000\n",
      "3237                    Turkmenistan  2009     9248.886549            1.950000\n",
      "3253                          Tuvalu  2009     3117.543849           20.000000\n",
      "3263                          Uganda  2009     1485.027085            9.780000\n",
      "3284                         Ukraine  2009     7479.342170           17.900000\n",
      "3307            United Arab Emirates  2009    61118.903794           64.000000\n",
      "3328                  United Kingdom  2009    36042.424229           83.560000\n",
      "3353                   United States  2009    48557.867645           71.000000\n",
      "3378                         Uruguay  2009    15900.829253           41.800000\n",
      "3400                      Uzbekistan  2009     4019.435793           17.058216\n",
      "3421                         Vanuatu  2009     2970.033065            7.500000\n",
      "3441                       Venezuela  2009    17053.931313           32.700000\n",
      "3465                           Yemen  2009     4272.811752            9.960000\n",
      "3485                          Zambia  2009     3060.067789            6.310000\n",
      "3507                        Zimbabwe  2009     1336.212650           11.360000\n",
      "\n",
      "[165 rows x 4 columns]\n",
      "                             Country  Year  GDP_Per_Capita  Internet_Users_Pct\n",
      "0                        Afghanistan  2014     1838.960244             6.39000\n",
      "13                           Albania  2014    10701.120786            60.10000\n",
      "34                           Algeria  2014    13483.337862            18.09000\n",
      "56                            Angola  2014     6260.132681            21.26000\n",
      "76               Antigua and Barbuda  2014    19573.834118            64.00000\n",
      "97                         Argentina  2014    18797.547947            64.70000\n",
      "121                          Armenia  2014     7971.117928            46.30000\n",
      "144                        Australia  2014    43315.360998            84.56000\n",
      "166                          Austria  2014    44345.309653            81.00000\n",
      "191                       Azerbaijan  2014    16715.105521            61.00000\n",
      "211                          Bahrain  2014    43837.344058            90.99998\n",
      "232                       Bangladesh  2014     2973.041565             9.60000\n",
      "251                         Barbados  2014    16360.554611            76.67000\n",
      "272                          Belarus  2014    17944.209846            59.02000\n",
      "291                          Belgium  2014    41384.147332            85.00000\n",
      "316                           Belize  2014     8005.484897            38.70000\n",
      "335                            Benin  2014     2001.129161             5.30000\n",
      "375                           Bhutan  2014     7366.424126            34.37000\n",
      "392                          Bolivia  2014     6324.827258            39.02000\n",
      "413           Bosnia and Herzegovina  2014    10516.694837            60.80000\n",
      "432                         Botswana  2014    15914.670233            18.50000\n",
      "454                           Brazil  2014    15370.996370            57.60000\n",
      "479                         Bulgaria  2014    16302.312885            55.49000\n",
      "502                     Burkina Faso  2014     1582.333697             9.40000\n",
      "522                          Burundi  2014      803.172837             1.38000\n",
      "547                         Cambodia  2014     3124.319293             9.00000\n",
      "565                         Cameroon  2014     3196.361526            11.00000\n",
      "584                           Canada  2014    43079.142525            87.12000\n",
      "610                             Chad  2014     2076.650008             2.50000\n",
      "629                            Chile  2014    22226.452474            72.35000\n",
      "...                              ...   ...             ...                 ...\n",
      "2868                           Spain  2014    31195.405242            76.19000\n",
      "2893                       Sri Lanka  2014    10650.388631            25.80000\n",
      "2915  St. Vincent and the Grenadines  2014    10315.821521            56.48000\n",
      "2936                           Sudan  2014     4188.334814            24.64000\n",
      "2955                        Suriname  2014    15306.692437            40.08000\n",
      "2976                       Swaziland  2014     7870.970748            27.10000\n",
      "2997                          Sweden  2014    44167.631867            92.52000\n",
      "3022                     Switzerland  2014    57218.027926            87.00000\n",
      "3047                      Tajikistan  2014     2546.500484            17.49000\n",
      "3064                        Tanzania  2014     2402.099346             4.86000\n",
      "3084                        Thailand  2014    14853.464526            34.89000\n",
      "3109                     Timor-Leste  2014     1887.666113             1.14000\n",
      "3120                            Togo  2014     1315.340260             5.70000\n",
      "3145                           Tonga  2014     5031.629951            40.00000\n",
      "3166             Trinidad and Tobago  2014    31595.560011            65.10000\n",
      "3187                         Tunisia  2014    10751.446075            46.16000\n",
      "3209                          Turkey  2014    22401.880431            51.04000\n",
      "3232                    Turkmenistan  2014    14332.365770            12.20000\n",
      "3258                          Uganda  2014     1637.275081            17.71000\n",
      "3279                         Ukraine  2014     8243.473515            43.40000\n",
      "3302            United Arab Emirates  2014    64126.892082            90.40000\n",
      "3323                  United Kingdom  2014    38251.792480            91.61000\n",
      "3348                   United States  2014    51931.612171            87.36000\n",
      "3373                         Uruguay  2014    19827.564984            61.46000\n",
      "3395                      Uzbekistan  2014     5370.865802            43.55000\n",
      "3416                         Vanuatu  2014     2892.341604            18.80000\n",
      "3436                       Venezuela  2014    16745.021980            57.00000\n",
      "3460                           Yemen  2014     3766.806001            22.55000\n",
      "3480                          Zambia  2014     3632.503753            17.34000\n",
      "3502                        Zimbabwe  2014     1925.138710            19.89000\n",
      "\n",
      "[163 rows x 4 columns]\n"
     ]
    }
   ],
   "source": [
    "print(gdp_and_internet_use.loc[gdp_and_internet_use['Year']==2004])\n",
    "print(gdp_and_internet_use.loc[gdp_and_internet_use['Year']==2009])\n",
    "print(gdp_and_internet_use.loc[gdp_and_internet_use['Year']==2014]) "
   ]
  },
  {
   "cell_type": "code",
   "execution_count": null,
   "metadata": {},
   "outputs": [],
   "source": []
  }
 ],
 "metadata": {
  "kernelspec": {
   "display_name": "Python 3",
   "language": "python",
   "name": "python3"
  },
  "language_info": {
   "codemirror_mode": {
    "name": "ipython",
    "version": 3
   },
   "file_extension": ".py",
   "mimetype": "text/x-python",
   "name": "python",
   "nbconvert_exporter": "python",
   "pygments_lexer": "ipython3",
   "version": "3.6.5"
  }
 },
 "nbformat": 4,
 "nbformat_minor": 2
}
